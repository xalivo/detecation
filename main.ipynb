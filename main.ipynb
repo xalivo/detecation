{
 "cells": [
  {
   "metadata": {},
   "cell_type": "markdown",
   "source": [
    "# Detecation\n",
    "## Prepare requirements"
   ],
   "id": "e8a3033264d2e8e1"
  },
  {
   "cell_type": "code",
   "id": "initial_id",
   "metadata": {
    "collapsed": true
   },
   "source": [
    "# clone yolov7 repo\n",
    "!git clone https://github.com/WongKinYiu/yolov7.git"
   ],
   "outputs": [],
   "execution_count": null
  },
  {
   "metadata": {},
   "cell_type": "code",
   "source": [
    "# get yolov7 pretrained model\n",
    "!curl -L -o ./yolov7/yolov7.pt https://github.com/WongKinYiu/yolov7/releases/download/v0.1/yolov7.pt"
   ],
   "id": "5035ee8cec6aaedf",
   "outputs": [],
   "execution_count": null
  },
  {
   "metadata": {},
   "cell_type": "code",
   "source": [
    "# fix requirements.txt\n",
    "fileContent = \"\"\n",
    "with open(\"./yolov7/requirements.txt\", \"r\") as file:\n",
    "    for line in file:\n",
    "        if line.startswith(\"numpy\"):\n",
    "            continue\n",
    "        fileContent += line\n",
    "\n",
    "with open (\"./yolov7/requirements.txt\", \"w\") as file:\n",
    "    file.write(fileContent)"
   ],
   "id": "84b16548ded2c68",
   "outputs": [],
   "execution_count": null
  },
  {
   "metadata": {},
   "cell_type": "code",
   "source": [
    "# install dependencies\n",
    "!pip install -r ./yolov7/requirements.txt"
   ],
   "id": "b5f624e838f5a46d",
   "outputs": [],
   "execution_count": null
  },
  {
   "metadata": {},
   "cell_type": "code",
   "source": [
    "# install newest numpy version manually\n",
    "!pip install numpy"
   ],
   "id": "767c7cfb4e55fad7",
   "outputs": [],
   "execution_count": null
  },
  {
   "metadata": {},
   "cell_type": "code",
   "source": [
    "# install dependency to collect images\n",
    "!pip install simple-image-download"
   ],
   "id": "92aec30c84286195",
   "outputs": [],
   "execution_count": null
  },
  {
   "metadata": {},
   "cell_type": "markdown",
   "source": "## Acquire dataset",
   "id": "fb663590400aa5c4"
  },
  {
   "metadata": {},
   "cell_type": "code",
   "source": [
    "# import downloader\n",
    "from simple_image_download import simple_image_download as sid\n",
    "\n",
    "response = sid.Downloader()"
   ],
   "id": "3c872f6b52597829",
   "outputs": [],
   "execution_count": null
  },
  {
   "metadata": {},
   "cell_type": "code",
   "source": [
    "# define which queries to look for online\n",
    "downloadQueries = [\"cat\", \"walking-cat\", \"cat-face\"]"
   ],
   "id": "c00fac50c5b4a868",
   "outputs": [],
   "execution_count": null
  },
  {
   "metadata": {},
   "cell_type": "code",
   "source": [
    "# download images\n",
    "\"\"\"for query in downloadQueries:\n",
    "    response.download(query, limit=100)\"\"\"\n",
    "\n",
    "response.download(downloadQueries[0], limit=300)"
   ],
   "id": "87025fa56b934f1e",
   "outputs": [],
   "execution_count": null
  },
  {
   "metadata": {},
   "cell_type": "code",
   "source": "response.download(downloadQueries[1], limit=100)",
   "id": "25a982993c2d0a52",
   "outputs": [],
   "execution_count": null
  },
  {
   "metadata": {},
   "cell_type": "code",
   "source": "response.download(downloadQueries[2], limit=100)",
   "id": "7be9802991c1b7d9",
   "outputs": [],
   "execution_count": null
  },
  {
   "metadata": {},
   "cell_type": "code",
   "source": [
    "from os import listdir, remove, rename, mkdir\n",
    "from os.path import isdir\n",
    "\n",
    "# remove unwanted images in the wrong format\n",
    "for query in downloadQueries:\n",
    "    for image in listdir(f\"./simple_images/{query}\"):\n",
    "        if not image.endswith(\".jpeg\"):\n",
    "            remove(f\"./simple_images/{query}/{image}\")\n",
    "\n",
    "# create new directory for all images\n",
    "if not isdir(\"./images\"):\n",
    "    mkdir(\"./images\")\n",
    "\n",
    "# move all images to one folder\n",
    "for query in downloadQueries:\n",
    "    for image in listdir(f\"./simple_images/{query}\"):\n",
    "        rename(f\"./simple_images/{query}/{image}\", f\"./images/{image}\")\n",
    "\n",
    "print(\"Remaining images after this operation: \", len(listdir(\"./images\")))"
   ],
   "id": "7337e21f68dbb5e1",
   "outputs": [],
   "execution_count": null
  },
  {
   "metadata": {},
   "cell_type": "code",
   "source": [
    "# remove identical images\n",
    "from hashlib import md5\n",
    "\n",
    "hashes = []\n",
    "\n",
    "for image in listdir(\"./images\"):\n",
    "    hash = md5(open(f\"./images/{image}\", \"rb\").read()).hexdigest()\n",
    "    if hash in hashes:\n",
    "        remove(f\"./images/{image}\")\n",
    "    else:\n",
    "        hashes.append(hash)\n",
    "\n",
    "print(\"Remaining images after this operation: \", len(listdir(\"./images\")))"
   ],
   "id": "e5094be4d5b9112a",
   "outputs": [],
   "execution_count": null
  },
  {
   "metadata": {},
   "cell_type": "markdown",
   "source": [
    "## Label & annotate image\n",
    "For this process, you have to install labelImg... see instructions here: https://github.com/HumanSignal/labelImg"
   ],
   "id": "d826ef3e7f2c7269"
  },
  {
   "metadata": {},
   "cell_type": "markdown",
   "source": "## Divide into training, validation & testing data",
   "id": "ccadd3a851f046d7"
  },
  {
   "metadata": {},
   "cell_type": "code",
   "source": [
    "from os.path import isfile\n",
    "\n",
    "if not isdir(\"./dataset\"):\n",
    "    mkdir(\"./dataset\")\n",
    "    mkdir(f\"./dataset/train\")\n",
    "    mkdir(f\"./dataset/val\")\n",
    "    mkdir(f\"./dataset/test\")\n",
    "\n",
    "# move classes file to dataset folder\n",
    "if isfile(\"./images/classes.txt\"):\n",
    "    rename(\"./images/classes.txt\", \"./dataset/classes.txt\")\n",
    "\n",
    "totalImages = len(listdir(\"./images\")) / 2\n",
    "print(\"Number of images: \", totalImages)\n",
    "\n",
    "# percentage of data allocated for each purpose\n",
    "trainPercentage = 0.8\n",
    "validationPercentage = 0.15\n",
    "testingPercentage = 0.05\n",
    "\n",
    "if trainPercentage + validationPercentage + testingPercentage != 1:\n",
    "    raise Exception(\"Training-, Validation-, and Testing-Percentage must sum up to 1 (100%).\")\n",
    "\n",
    "trainImages = int(totalImages * trainPercentage)\n",
    "validationImages = int(totalImages * validationPercentage)\n",
    "testingImages = int(totalImages - trainImages - validationImages) if testingPercentage > 0 else 0\n",
    "\n",
    "print(\"Number of training images: \", trainImages)\n",
    "print(\"Number of validation images: \", validationImages)\n",
    "print(\"Number of testing images: \", testingImages)"
   ],
   "id": "505b387f9cc8f312",
   "outputs": [],
   "execution_count": null
  },
  {
   "metadata": {},
   "cell_type": "code",
   "source": [
    "# move images according to their purpose\n",
    "from random import shuffle\n",
    "\n",
    "listOfImages = list(filter(lambda x : x.endswith(\".jpeg\"), listdir(\"./images\")))\n",
    "shuffle(listOfImages)\n",
    "\n",
    "listOfTrainImages = listOfImages[:trainImages]\n",
    "listOfValidationImages = listOfImages[trainImages:trainImages + validationImages]\n",
    "listOfTestImages = listOfImages[trainImages + validationImages:]\n",
    "\n",
    "def moveImagesAndAnnotations(purpose, imageList):\n",
    "    for img in imageList:\n",
    "        rename(f\"./images/{img}\", f\"./dataset/{purpose}/{img}\")\n",
    "        rename(f\"./images/{img.split('.')[0]}.txt\", f\"./dataset/{purpose}/{img.split('.')[0]}.txt\")\n",
    "\n",
    "moveImagesAndAnnotations(\"train\", listOfTrainImages)\n",
    "moveImagesAndAnnotations(\"val\", listOfValidationImages)\n",
    "moveImagesAndAnnotations(\"test\", listOfTestImages)"
   ],
   "id": "6d6fb389dd78bea4",
   "outputs": [],
   "execution_count": null
  },
  {
   "metadata": {},
   "cell_type": "code",
   "source": [
    "# clean up leftover directories\n",
    "from os import rmdir\n",
    "from shutil import rmtree\n",
    "\n",
    "if isdir(\"./images\"):\n",
    "    rmdir(\"./images\")\n",
    "if isdir(\"./simple_images\"):\n",
    "    rmtree(\"./simple_images\")"
   ],
   "id": "e5fa5fa347aadf9f",
   "outputs": [],
   "execution_count": null
  },
  {
   "metadata": {},
   "cell_type": "markdown",
   "source": [
    "## Training a YOLOv7 model on the dataset\n",
    "Config files must be adjusted for our data."
   ],
   "id": "33be9bac2830f68"
  },
  {
   "metadata": {},
   "cell_type": "code",
   "source": "!python ./yolov7/train.py --workers 4 --device 0 --batch-size 16 --epochs 50 --img 640 640 --data ./yolov7-config/data.yaml --hyp ./yolov7-config/hyp.scratch.custom.yaml --cfg ./yolov7-config/yolov7-cfg-custom.yaml --weight ./yolov7/yolov7.pt --name detecation",
   "id": "a24cd34adfd5749a",
   "outputs": [],
   "execution_count": null
  },
  {
   "metadata": {},
   "cell_type": "markdown",
   "source": "## Test performance of the model",
   "id": "63b3dfcd69f214e9"
  },
  {
   "metadata": {},
   "cell_type": "code",
   "outputs": [],
   "execution_count": null,
   "source": "!python ./yolov7/detect.py --weight ./runs/train/detecation/weights/best.pt --conf 0.25 --img-size 640 --source ./dataset/test/",
   "id": "16c29ab5d1f1b0a0"
  }
 ],
 "metadata": {
  "kernelspec": {
   "display_name": "Python 3",
   "language": "python",
   "name": "python3"
  },
  "language_info": {
   "codemirror_mode": {
    "name": "ipython",
    "version": 2
   },
   "file_extension": ".py",
   "mimetype": "text/x-python",
   "name": "python",
   "nbconvert_exporter": "python",
   "pygments_lexer": "ipython2",
   "version": "2.7.6"
  }
 },
 "nbformat": 4,
 "nbformat_minor": 5
}
