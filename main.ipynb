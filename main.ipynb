{
 "cells": [
  {
   "cell_type": "code",
   "id": "initial_id",
   "metadata": {
    "collapsed": true
   },
   "source": [
    "# clone yolov7 repo\n",
    "!git clone https://github.com/WongKinYiu/yolov7.git"
   ],
   "outputs": [],
   "execution_count": null
  },
  {
   "metadata": {},
   "cell_type": "code",
   "source": [
    "# fix requirements.txt\n",
    "fileContent = \"\"\n",
    "with open(\"./yolov7/requirements.txt\", \"r\") as file:\n",
    "    for line in file:\n",
    "        if line.startswith(\"numpy\"):\n",
    "            continue\n",
    "        fileContent += line\n",
    "\n",
    "with open (\"./yolov7/requirements.txt\", \"w\") as file:\n",
    "    file.write(fileContent)"
   ],
   "id": "84b16548ded2c68",
   "outputs": [],
   "execution_count": null
  },
  {
   "metadata": {},
   "cell_type": "code",
   "source": [
    "# install dependencies\n",
    "!pip install -r ./yolov7/requirements.txt"
   ],
   "id": "b5f624e838f5a46d",
   "outputs": [],
   "execution_count": null
  },
  {
   "metadata": {},
   "cell_type": "code",
   "source": [
    "# install newest numpy version manually\n",
    "!pip install numpy"
   ],
   "id": "767c7cfb4e55fad7",
   "outputs": [],
   "execution_count": null
  }
 ],
 "metadata": {
  "kernelspec": {
   "display_name": "Python 3",
   "language": "python",
   "name": "python3"
  },
  "language_info": {
   "codemirror_mode": {
    "name": "ipython",
    "version": 2
   },
   "file_extension": ".py",
   "mimetype": "text/x-python",
   "name": "python",
   "nbconvert_exporter": "python",
   "pygments_lexer": "ipython2",
   "version": "2.7.6"
  }
 },
 "nbformat": 4,
 "nbformat_minor": 5
}
