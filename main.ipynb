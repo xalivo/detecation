{
 "cells": [
  {
   "metadata": {},
   "cell_type": "markdown",
   "source": [
    "# Detecation\n",
    "## Prepare requirements"
   ],
   "id": "e8a3033264d2e8e1"
  },
  {
   "cell_type": "code",
   "id": "initial_id",
   "metadata": {
    "collapsed": true
   },
   "source": [
    "# clone yolov7 repo\n",
    "!git clone https://github.com/WongKinYiu/yolov7.git"
   ],
   "outputs": [],
   "execution_count": null
  },
  {
   "metadata": {},
   "cell_type": "code",
   "source": [
    "# fix requirements.txt\n",
    "fileContent = \"\"\n",
    "with open(\"./yolov7/requirements.txt\", \"r\") as file:\n",
    "    for line in file:\n",
    "        if line.startswith(\"numpy\"):\n",
    "            continue\n",
    "        fileContent += line\n",
    "\n",
    "with open (\"./yolov7/requirements.txt\", \"w\") as file:\n",
    "    file.write(fileContent)"
   ],
   "id": "84b16548ded2c68",
   "outputs": [],
   "execution_count": null
  },
  {
   "metadata": {},
   "cell_type": "code",
   "source": [
    "# install dependencies\n",
    "!pip install -r ./yolov7/requirements.txt"
   ],
   "id": "b5f624e838f5a46d",
   "outputs": [],
   "execution_count": null
  },
  {
   "metadata": {},
   "cell_type": "code",
   "source": [
    "# install newest numpy version manually\n",
    "!pip install numpy"
   ],
   "id": "767c7cfb4e55fad7",
   "outputs": [],
   "execution_count": null
  },
  {
   "metadata": {},
   "cell_type": "code",
   "source": [
    "# install dependency to collect images\n",
    "!pip install simple-image-download"
   ],
   "id": "92aec30c84286195",
   "outputs": [],
   "execution_count": null
  },
  {
   "metadata": {},
   "cell_type": "markdown",
   "source": "## Acquire dataset",
   "id": "fb663590400aa5c4"
  },
  {
   "metadata": {},
   "cell_type": "code",
   "source": [
    "# import downloader\n",
    "from simple_image_download import simple_image_download as sid\n",
    "\n",
    "response = sid.Downloader()"
   ],
   "id": "3c872f6b52597829",
   "outputs": [],
   "execution_count": null
  },
  {
   "metadata": {},
   "cell_type": "code",
   "source": [
    "# define which queries to look for online\n",
    "downloadQueries = [\"cat\", \"playing-cats\", \"2-cats\"]"
   ],
   "id": "c00fac50c5b4a868",
   "outputs": [],
   "execution_count": null
  },
  {
   "metadata": {},
   "cell_type": "code",
   "source": [
    "# download images\n",
    "\"\"\"for query in downloadQueries:\n",
    "    response.download(query, limit=100)\"\"\"\n",
    "\n",
    "response.download(downloadQueries[0], limit=100)"
   ],
   "id": "87025fa56b934f1e",
   "outputs": [],
   "execution_count": null
  },
  {
   "metadata": {},
   "cell_type": "code",
   "source": "response.download(downloadQueries[1], limit=100)",
   "id": "25a982993c2d0a52",
   "outputs": [],
   "execution_count": null
  },
  {
   "metadata": {},
   "cell_type": "code",
   "source": "response.download(downloadQueries[2], limit=70)",
   "id": "7be9802991c1b7d9",
   "outputs": [],
   "execution_count": null
  },
  {
   "metadata": {},
   "cell_type": "code",
   "source": [
    "from os import listdir, remove, rename, mkdir\n",
    "\n",
    "# remove unwanted images in the wrong format\n",
    "for query in downloadQueries:\n",
    "    for image in listdir(f\"./simple_images/{query}\"):\n",
    "        if not image.endswith(\".jpeg\"):\n",
    "            remove(f\"./simple_images/{query}/{image}\")\n",
    "\n",
    "# create new directory for all images\n",
    "mkdir(\"./images\")\n",
    "\n",
    "# move all images to one folder\n",
    "for query in downloadQueries:\n",
    "    for image in listdir(f\"./simple_images/{query}\"):\n",
    "        rename(f\"./simple_images/{query}/{image}\", f\"./images/{image}\")"
   ],
   "id": "7337e21f68dbb5e1",
   "outputs": [],
   "execution_count": null
  }
 ],
 "metadata": {
  "kernelspec": {
   "display_name": "Python 3",
   "language": "python",
   "name": "python3"
  },
  "language_info": {
   "codemirror_mode": {
    "name": "ipython",
    "version": 2
   },
   "file_extension": ".py",
   "mimetype": "text/x-python",
   "name": "python",
   "nbconvert_exporter": "python",
   "pygments_lexer": "ipython2",
   "version": "2.7.6"
  }
 },
 "nbformat": 4,
 "nbformat_minor": 5
}
